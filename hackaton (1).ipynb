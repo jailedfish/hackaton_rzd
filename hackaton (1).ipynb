{
  "nbformat": 4,
  "nbformat_minor": 0,
  "metadata": {
    "colab": {
      "provenance": []
    },
    "kernelspec": {
      "name": "python3",
      "display_name": "Python 3"
    },
    "language_info": {
      "name": "python"
    }
  },
  "cells": [
    {
      "cell_type": "code",
      "execution_count": null,
      "metadata": {
        "id": "N6bWscLXRIMr"
      },
      "outputs": [],
      "source": [
        "!pip install opencv-python"
      ]
    },
    {
      "cell_type": "code",
      "source": [
        "import cv2\n",
        "import numpy as np\n",
        "import matplotlib.pyplot as plt\n",
        "from google.colab.patches import cv2_imshow\n",
        "from threading import Thread"
      ],
      "metadata": {
        "id": "2euk1vsoRXWu"
      },
      "execution_count": 146,
      "outputs": []
    },
    {
      "cell_type": "code",
      "source": [
        "def get_road_marks(frame, drawto):\n",
        "  f = cv2.cvtColor(frame, cv2.COLOR_BGR2GRAY)\n",
        "  retval, thresh = cv2.threshold(f, 180, 255, cv2.THRESH_BINARY)\n",
        "  contours, hierarchy = cv2.findContours(thresh, cv2.RETR_TREE , cv2.CHAIN_APPROX_NONE)\n",
        "  larges = [cnt for cnt in contours if cv2.contourArea(cnt) < 1250]\n",
        "  subf = drawto\n",
        "  cv2.drawContours(subf, larges, -1, (0,0,255), 1, cv2.LINE_4, hierarchy, 1 )\n",
        "  cv2_imshow(subf)"
      ],
      "metadata": {
        "id": "daHU-9DYulEA"
      },
      "execution_count": 151,
      "outputs": []
    },
    {
      "cell_type": "code",
      "source": [
        "def process(frame, frameid):\n",
        "  fg_mask = backSub.apply(frame)\n",
        "  frameid += 1\n",
        "  if frameid > 5:\n",
        "    get_road_marks(backSub.getBackgroundImage(), frame.copy())\n",
        "\n",
        "\n",
        "  #cv2_imshow(backSub.getBackgroundImage())\n",
        "  contours, hierarchy = cv2.findContours(fg_mask, cv2.RETR_EXTERNAL, cv2.CHAIN_APPROX_SIMPLE)\n",
        "\n",
        "  retval, mask_thresh = cv2.threshold( fg_mask, 180, 255, cv2.THRESH_BINARY)\n",
        "  kernel = cv2.getStructuringElement(cv2.MORPH_ELLIPSE, (3, 3))\n",
        "  # Apply erosion\n",
        "  mask_eroded = cv2.morphologyEx(mask_thresh, cv2.MORPH_OPEN, kernel)\n",
        "\n",
        "  large_contours = [cnt for cnt in contours if cv2.contourArea(cnt) > 500]\n",
        "  frame_out = frame\n",
        "  for cnt in large_contours:\n",
        "      x, y, w, h = cv2.boundingRect(cnt)\n",
        "      frame_out = cv2.rectangle(frame, (x, y), (x+w, y+h), (0, 0, 200), 3)\n",
        "\n",
        "  # отображаем результат\n",
        "  cv2_imshow(frame_out)"
      ],
      "metadata": {
        "id": "A4WHskbip5YG"
      },
      "execution_count": 152,
      "outputs": []
    },
    {
      "cell_type": "code",
      "source": [
        "cap = cv2.VideoCapture('./inp.mp4')\n",
        "cap.set(cv2.CAP_PROP_FPS, 10)\n",
        "backSub = cv2.createBackgroundSubtractorMOG2()\n",
        "if not cap.isOpened():\n",
        "    print(\"Error opening video file\")\n",
        "\n",
        "rets = 0\n",
        "frameid = 0\n",
        "while cap.isOpened():\n",
        "      print(f'{frameid}')\n",
        "      # Захват кадр за кадром\n",
        "      ret, frame = cap.read()\n",
        "\n",
        "      if ret:\n",
        "          rets = 0\n",
        "          frameid += 1\n",
        "          process(frame, frameid)\n",
        "          #frame = cv2.resize(frame, (320, 240))\n",
        "\n",
        "      else:\n",
        "        if rets > 10:\n",
        "          break\n",
        "        rets += 1"
      ],
      "metadata": {
        "id": "DL14XWVURdSg"
      },
      "execution_count": null,
      "outputs": []
    },
    {
      "cell_type": "code",
      "source": [],
      "metadata": {
        "id": "4eiOue9rOjOE"
      },
      "execution_count": null,
      "outputs": []
    }
  ]
}